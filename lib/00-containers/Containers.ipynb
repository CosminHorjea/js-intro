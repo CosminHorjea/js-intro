{
 "cells": [
  {
   "cell_type": "markdown",
   "id": "c421d464",
   "metadata": {},
   "source": [
    "# Containers n stuff\n",
    "\n",
    "Oh how lucky you are!\n",
    "\n",
    "Back in my day you actually had to set up the environment\n",
    "with installations and scripts.\n",
    "\n",
    "Swapping OS was a nightmare.\n",
    "\n",
    "Fortunately containers solve this problem.\n",
    "\n",
    "## Container engines\n",
    "Container engines allow users to run a prebuilt enviroment in a sandbox.\n",
    "The same environment on any machine, making deployment A LOT easier.\n",
    "\n",
    "### Docker\n",
    "Docker was the first container technology to actually take off.\n",
    "Unfortunately it has a major security flaw, you have to run a daemon\n",
    "as root. It's also not OCI compliant as far as I know.\n",
    "\n",
    "### Podman\n",
    "Podman aims to solve these problems while also adopting as much of \n",
    "a common API with Docker as possible. It even has a shim for the docker command.\n",
    "\n",
    "Unfortunately it runs only under linux.\n",
    "\n",
    "## Installation\n",
    "Because it is simple to install and run on non-server enviroments we will be using Docker.\n",
    "\n",
    "* Windows https://docs.docker.com/docker-for-windows/install/\n",
    "* MacOS https://docs.docker.com/docker-for-mac/install/\n",
    "* Linux https://docs.docker.com/engine/install/ubuntu/\n",
    "\n",
    "Probably `sudo apt-get install docker-ce docker-ce-cli containerd.io`\n",
    "\n",
    "## Images\n",
    "Images allow us to create a snapshot of a system that can be run anywhere with a container engine.\n",
    "\n",
    "Each image can be ran as a container, in an isolated enviroment.\n",
    "\n",
    "But ussually you do not want a 100% isolation, rather to export a port and maybe some disk."
   ]
  },
  {
   "cell_type": "markdown",
   "id": "fca70b03",
   "metadata": {},
   "source": [
    "## Let's play\n",
    "Let's make a mariadb database\n"
   ]
  },
  {
   "cell_type": "markdown",
   "id": "05ba5307",
   "metadata": {},
   "source": [
    "First lets kill all containers, just to be sure we are not running anything"
   ]
  },
  {
   "cell_type": "code",
   "execution_count": 1,
   "id": "d3b10d83",
   "metadata": {},
   "outputs": [],
   "source": [
    "# docker kill $(docker ps -q)\n",
    "# docker system prune -f > /dev/null"
   ]
  },
  {
   "cell_type": "code",
   "execution_count": 2,
   "id": "520a23a7",
   "metadata": {},
   "outputs": [
    {
     "name": "stdout",
     "output_type": "stream",
     "text": [
      "a101b828c080eb85641ba7451d8d5cef55c6752e00c11f5635d024b2df5a2cd2\n"
     ]
    }
   ],
   "source": [
    "docker run -p 127.0.0.1:3306:3306  --rm --name mariadb -e MARIADB_ROOT_PASSWORD=pass -d mariadb:latest"
   ]
  },
  {
   "cell_type": "code",
   "execution_count": 3,
   "id": "27824655",
   "metadata": {},
   "outputs": [],
   "source": [
    "# To connect from a locally instaled mysql/mariadb cli\n",
    "# mariadb -uroot -ppass -h127.0.0.1\n",
    "# mysql -uroot -ppass -h127.0.0.1"
   ]
  },
  {
   "cell_type": "code",
   "execution_count": 4,
   "id": "02a4fd56",
   "metadata": {},
   "outputs": [
    {
     "name": "stdout",
     "output_type": "stream",
     "text": [
      "ERROR 2005 (HY000): Unknown MySQL server host 'mariadb' (-2)\n",
      "\u0007\u001b(B\u001b[0;7m\u001b(B\u001b[mdied\n"
     ]
    }
   ],
   "source": [
    "# What if we don't have one? Docker to the rescue:\n",
    "docker run -it --rm mariadb mysql -hmariadb -uroot -ppass\n",
    "echo \"died\""
   ]
  },
  {
   "cell_type": "markdown",
   "id": "b1267e07",
   "metadata": {},
   "source": [
    "As you can see, it's not working. Why is that?\n",
    "\n",
    "Containers by default are isolated so you need to tell docker to connect them with a network.\n",
    "\n",
    "Lets kill the container and make it again with a network (note that we can add it to a network even when running)"
   ]
  },
  {
   "cell_type": "code",
   "execution_count": 5,
   "id": "88326378",
   "metadata": {},
   "outputs": [
    {
     "name": "stdout",
     "output_type": "stream",
     "text": [
      "mariadb\n"
     ]
    }
   ],
   "source": [
    "docker kill mariadb"
   ]
  },
  {
   "cell_type": "markdown",
   "id": "100130ce",
   "metadata": {},
   "source": [
    "Lets check if there are any running containers"
   ]
  },
  {
   "cell_type": "code",
   "execution_count": 6,
   "id": "f43978d1",
   "metadata": {},
   "outputs": [
    {
     "name": "stdout",
     "output_type": "stream",
     "text": [
      "CONTAINER ID   IMAGE     COMMAND   CREATED   STATUS    PORTS     NAMES\n"
     ]
    }
   ],
   "source": [
    "docker container ls"
   ]
  },
  {
   "cell_type": "markdown",
   "id": "f0fe0d58",
   "metadata": {},
   "source": [
    "Now lets create a network and add them to our network"
   ]
  },
  {
   "cell_type": "code",
   "execution_count": 7,
   "id": "4e623d9d",
   "metadata": {},
   "outputs": [
    {
     "name": "stdout",
     "output_type": "stream",
     "text": [
      "c82849707350b58c94974cfe1e092a771b33f3c10a545a542028a529865e0539\n"
     ]
    }
   ],
   "source": [
    "docker network create awsome-network"
   ]
  },
  {
   "cell_type": "code",
   "execution_count": 8,
   "id": "3a097e7f",
   "metadata": {},
   "outputs": [
    {
     "name": "stdout",
     "output_type": "stream",
     "text": [
      "630396eb359bebd5a02c183e257d611f23c598ec01a6ce9f55b2df357d142908\n"
     ]
    }
   ],
   "source": [
    "docker run -p 127.0.0.1:3306:3306 --network awsome-network  --rm --name mariadb -e MARIADB_ROOT_PASSWORD=pass -d mariadb:latest"
   ]
  },
  {
   "cell_type": "markdown",
   "id": "cf1577e4",
   "metadata": {},
   "source": [
    "Now we can run this in a terminal (because it's interactive)"
   ]
  },
  {
   "cell_type": "code",
   "execution_count": 9,
   "id": "f9b4b436",
   "metadata": {},
   "outputs": [],
   "source": [
    "# docker run -it --network awsome-network --rm mariadb mysql -hmariadb -uroot -ppassb"
   ]
  },
  {
   "cell_type": "markdown",
   "id": "1c75279b",
   "metadata": {},
   "source": [
    "Now let's kill the mariadb instance"
   ]
  },
  {
   "cell_type": "code",
   "execution_count": 10,
   "id": "5d042751",
   "metadata": {},
   "outputs": [
    {
     "name": "stdout",
     "output_type": "stream",
     "text": [
      "mariadb\n"
     ]
    }
   ],
   "source": [
    "docker kill mariadb\n",
    "docker system prune -f > /dev/null"
   ]
  },
  {
   "cell_type": "code",
   "execution_count": null,
   "id": "7edbbd72",
   "metadata": {},
   "outputs": [],
   "source": []
  }
 ],
 "metadata": {
  "kernelspec": {
   "display_name": "Bash",
   "language": "bash",
   "name": "bash"
  },
  "language_info": {
   "codemirror_mode": "shell",
   "file_extension": ".sh",
   "mimetype": "text/x-sh",
   "name": "bash"
  }
 },
 "nbformat": 4,
 "nbformat_minor": 5
}
